{
 "cells": [
  {
   "cell_type": "code",
   "execution_count": 1,
   "id": "d37bfedb",
   "metadata": {
    "scrolled": false
   },
   "outputs": [],
   "source": [
    "%matplotlib inline\n",
    "import pandas as pd\n",
    "from scrape.graph import create_graph_images, generate_boxplot_ci, generate_boxplot_ci_error, generate_boxplot_ci_error_for_days, generate_plot_ci_lines, generate_boxplot_ci_error_per_hour"
   ]
  },
  {
   "cell_type": "markdown",
   "id": "ab443df4",
   "metadata": {},
   "source": [
    "# Carbon intensity forecast tracking\n",
    "\n",
    "Here I'll show the basics of how this repo operates, for national data.\n",
    "\n",
    "1. Periodically scrape JSON data from the National Grid API\n",
    "2. Convert to CSV\n",
    "3. Summarise in a giant combined CSV\n",
    "4. Plot graphs and calculate statistics.\n",
    "\n",
    "Most operations are possible via the CLI: see the `python3 run.py ...` commands."
   ]
  },
  {
   "cell_type": "markdown",
   "id": "834138a0",
   "metadata": {},
   "source": [
    "## 1. Scrape JSON data from the National Grid API\n",
    "\n",
    "We'll use the existing repo folder `./data`. Subfolders will be created for each endpoint.\n",
    "\n",
    "The supported endpoints are defined in `api.py`. For national data, we'll use the two endpoints \n",
    "\n",
    "Run the following commands repeatedly every half-hour until you have gathered the data you want:\n",
    "```\n",
    "python run.py download --output_directory data --now --endpoint national_fw48h\n",
    "python run.py download --output_directory data --now --endpoint national_pt24h\n",
    "```\n",
    "\n",
    "Gathering data as it is published, every half hour, is important because historical forecasts are overwritten/unavailable (hence this project)."
   ]
  },
  {
   "cell_type": "markdown",
   "id": "804f1248",
   "metadata": {},
   "source": [
    "## 2. Convert to CSV\n",
    "\n",
    "```\n",
    "python3 run.py wrangle --input_directory \"data/national_fw48h\" --endpoint \"national_fw48h\"\n",
    "python3 run.py wrangle --input_directory \"data/national_pt24h\" --endpoint \"national_pt24h\"\n",
    "```\n",
    "\n",
    "This will create `.csv` files in the same directory with identical names as the `.json` files."
   ]
  },
  {
   "cell_type": "markdown",
   "id": "cfd6fc77",
   "metadata": {},
   "source": [
    "## 3. Summarise\n",
    "\n",
    "```\n",
    "python3 run.py summary --input_directory \"data/national_fw48h\" --output_directory \"data\" --endpoint \"national_fw48h\"\n",
    "python3 run.py summary --input_directory \"data/national_pt24h\" --output_directory \"data\" --endpoint \"national_pt24h\"\n",
    "```\n",
    "This will create `summary_national_fw48h.csv` and `summary_national_pt24h.csv` files in the `data` directory which combine all the available CSVs into one file."
   ]
  },
  {
   "cell_type": "code",
   "execution_count": 2,
   "id": "ac144d80",
   "metadata": {},
   "outputs": [
    {
     "data": {
      "text/html": [
       "<div>\n",
       "<style scoped>\n",
       "    .dataframe tbody tr th:only-of-type {\n",
       "        vertical-align: middle;\n",
       "    }\n",
       "\n",
       "    .dataframe tbody tr th {\n",
       "        vertical-align: top;\n",
       "    }\n",
       "\n",
       "    .dataframe thead th {\n",
       "        text-align: right;\n",
       "    }\n",
       "</style>\n",
       "<table border=\"1\" class=\"dataframe\">\n",
       "  <thead>\n",
       "    <tr style=\"text-align: right;\">\n",
       "      <th></th>\n",
       "      <th>Unnamed: 0</th>\n",
       "      <th>intensity.forecast</th>\n",
       "      <th>intensity.forecast.1</th>\n",
       "      <th>intensity.forecast.2</th>\n",
       "      <th>intensity.forecast.3</th>\n",
       "      <th>intensity.forecast.4</th>\n",
       "      <th>intensity.forecast.5</th>\n",
       "      <th>intensity.forecast.6</th>\n",
       "      <th>intensity.forecast.7</th>\n",
       "      <th>intensity.forecast.8</th>\n",
       "      <th>...</th>\n",
       "      <th>intensity.actual.86</th>\n",
       "      <th>intensity.actual.87</th>\n",
       "      <th>intensity.actual.88</th>\n",
       "      <th>intensity.actual.89</th>\n",
       "      <th>intensity.actual.90</th>\n",
       "      <th>intensity.actual.91</th>\n",
       "      <th>intensity.actual.92</th>\n",
       "      <th>intensity.actual.93</th>\n",
       "      <th>intensity.actual.94</th>\n",
       "      <th>intensity.actual.95</th>\n",
       "    </tr>\n",
       "  </thead>\n",
       "  <tbody>\n",
       "    <tr>\n",
       "      <th>0</th>\n",
       "      <td>time_difference</td>\n",
       "      <td>0.0</td>\n",
       "      <td>0.5</td>\n",
       "      <td>1.0</td>\n",
       "      <td>1.5</td>\n",
       "      <td>2.0</td>\n",
       "      <td>2.5</td>\n",
       "      <td>3.0</td>\n",
       "      <td>3.5</td>\n",
       "      <td>4.0</td>\n",
       "      <td>...</td>\n",
       "      <td>43.0</td>\n",
       "      <td>43.5</td>\n",
       "      <td>44.0</td>\n",
       "      <td>44.5</td>\n",
       "      <td>45.0</td>\n",
       "      <td>45.5</td>\n",
       "      <td>46.0</td>\n",
       "      <td>46.5</td>\n",
       "      <td>47.0</td>\n",
       "      <td>47.5</td>\n",
       "    </tr>\n",
       "    <tr>\n",
       "      <th>1</th>\n",
       "      <td>2023-03-14T03:00Z</td>\n",
       "      <td>68.0</td>\n",
       "      <td>NaN</td>\n",
       "      <td>NaN</td>\n",
       "      <td>NaN</td>\n",
       "      <td>NaN</td>\n",
       "      <td>NaN</td>\n",
       "      <td>NaN</td>\n",
       "      <td>NaN</td>\n",
       "      <td>NaN</td>\n",
       "      <td>...</td>\n",
       "      <td>NaN</td>\n",
       "      <td>NaN</td>\n",
       "      <td>NaN</td>\n",
       "      <td>NaN</td>\n",
       "      <td>NaN</td>\n",
       "      <td>NaN</td>\n",
       "      <td>NaN</td>\n",
       "      <td>NaN</td>\n",
       "      <td>NaN</td>\n",
       "      <td>NaN</td>\n",
       "    </tr>\n",
       "    <tr>\n",
       "      <th>2</th>\n",
       "      <td>2023-03-14T03:30Z</td>\n",
       "      <td>69.0</td>\n",
       "      <td>69.0</td>\n",
       "      <td>NaN</td>\n",
       "      <td>NaN</td>\n",
       "      <td>NaN</td>\n",
       "      <td>NaN</td>\n",
       "      <td>NaN</td>\n",
       "      <td>NaN</td>\n",
       "      <td>NaN</td>\n",
       "      <td>...</td>\n",
       "      <td>NaN</td>\n",
       "      <td>NaN</td>\n",
       "      <td>NaN</td>\n",
       "      <td>NaN</td>\n",
       "      <td>NaN</td>\n",
       "      <td>NaN</td>\n",
       "      <td>NaN</td>\n",
       "      <td>NaN</td>\n",
       "      <td>NaN</td>\n",
       "      <td>NaN</td>\n",
       "    </tr>\n",
       "    <tr>\n",
       "      <th>3</th>\n",
       "      <td>2023-03-14T04:00Z</td>\n",
       "      <td>76.0</td>\n",
       "      <td>72.0</td>\n",
       "      <td>72.0</td>\n",
       "      <td>NaN</td>\n",
       "      <td>NaN</td>\n",
       "      <td>NaN</td>\n",
       "      <td>NaN</td>\n",
       "      <td>NaN</td>\n",
       "      <td>NaN</td>\n",
       "      <td>...</td>\n",
       "      <td>NaN</td>\n",
       "      <td>NaN</td>\n",
       "      <td>NaN</td>\n",
       "      <td>NaN</td>\n",
       "      <td>NaN</td>\n",
       "      <td>NaN</td>\n",
       "      <td>NaN</td>\n",
       "      <td>NaN</td>\n",
       "      <td>NaN</td>\n",
       "      <td>NaN</td>\n",
       "    </tr>\n",
       "    <tr>\n",
       "      <th>4</th>\n",
       "      <td>2023-03-14T04:30Z</td>\n",
       "      <td>77.0</td>\n",
       "      <td>74.0</td>\n",
       "      <td>69.0</td>\n",
       "      <td>69.0</td>\n",
       "      <td>NaN</td>\n",
       "      <td>NaN</td>\n",
       "      <td>NaN</td>\n",
       "      <td>NaN</td>\n",
       "      <td>NaN</td>\n",
       "      <td>...</td>\n",
       "      <td>NaN</td>\n",
       "      <td>NaN</td>\n",
       "      <td>NaN</td>\n",
       "      <td>NaN</td>\n",
       "      <td>NaN</td>\n",
       "      <td>NaN</td>\n",
       "      <td>NaN</td>\n",
       "      <td>NaN</td>\n",
       "      <td>NaN</td>\n",
       "      <td>NaN</td>\n",
       "    </tr>\n",
       "  </tbody>\n",
       "</table>\n",
       "<p>5 rows × 193 columns</p>\n",
       "</div>"
      ],
      "text/plain": [
       "          Unnamed: 0  intensity.forecast  intensity.forecast.1  \\\n",
       "0    time_difference                 0.0                   0.5   \n",
       "1  2023-03-14T03:00Z                68.0                   NaN   \n",
       "2  2023-03-14T03:30Z                69.0                  69.0   \n",
       "3  2023-03-14T04:00Z                76.0                  72.0   \n",
       "4  2023-03-14T04:30Z                77.0                  74.0   \n",
       "\n",
       "   intensity.forecast.2  intensity.forecast.3  intensity.forecast.4  \\\n",
       "0                   1.0                   1.5                   2.0   \n",
       "1                   NaN                   NaN                   NaN   \n",
       "2                   NaN                   NaN                   NaN   \n",
       "3                  72.0                   NaN                   NaN   \n",
       "4                  69.0                  69.0                   NaN   \n",
       "\n",
       "   intensity.forecast.5  intensity.forecast.6  intensity.forecast.7  \\\n",
       "0                   2.5                   3.0                   3.5   \n",
       "1                   NaN                   NaN                   NaN   \n",
       "2                   NaN                   NaN                   NaN   \n",
       "3                   NaN                   NaN                   NaN   \n",
       "4                   NaN                   NaN                   NaN   \n",
       "\n",
       "   intensity.forecast.8  ...  intensity.actual.86  intensity.actual.87  \\\n",
       "0                   4.0  ...                 43.0                 43.5   \n",
       "1                   NaN  ...                  NaN                  NaN   \n",
       "2                   NaN  ...                  NaN                  NaN   \n",
       "3                   NaN  ...                  NaN                  NaN   \n",
       "4                   NaN  ...                  NaN                  NaN   \n",
       "\n",
       "   intensity.actual.88  intensity.actual.89  intensity.actual.90  \\\n",
       "0                 44.0                 44.5                 45.0   \n",
       "1                  NaN                  NaN                  NaN   \n",
       "2                  NaN                  NaN                  NaN   \n",
       "3                  NaN                  NaN                  NaN   \n",
       "4                  NaN                  NaN                  NaN   \n",
       "\n",
       "   intensity.actual.91  intensity.actual.92  intensity.actual.93  \\\n",
       "0                 45.5                 46.0                 46.5   \n",
       "1                  NaN                  NaN                  NaN   \n",
       "2                  NaN                  NaN                  NaN   \n",
       "3                  NaN                  NaN                  NaN   \n",
       "4                  NaN                  NaN                  NaN   \n",
       "\n",
       "   intensity.actual.94  intensity.actual.95  \n",
       "0                 47.0                 47.5  \n",
       "1                  NaN                  NaN  \n",
       "2                  NaN                  NaN  \n",
       "3                  NaN                  NaN  \n",
       "4                  NaN                  NaN  \n",
       "\n",
       "[5 rows x 193 columns]"
      ]
     },
     "execution_count": 2,
     "metadata": {},
     "output_type": "execute_result"
    }
   ],
   "source": [
    "# Example\n",
    "df = pd.read_csv(\"./data/summary_national_fw48h.csv\").head()\n",
    "df"
   ]
  },
  {
   "cell_type": "markdown",
   "id": "011bd147",
   "metadata": {},
   "source": [
    "## 4. Plots and statistics"
   ]
  },
  {
   "cell_type": "code",
   "execution_count": null,
   "id": "14ecd1cd",
   "metadata": {},
   "outputs": [],
   "source": [
    "fig = generate_plot_ci_lines(\"data\", \"national\", hours_of_data=12)"
   ]
  },
  {
   "cell_type": "code",
   "execution_count": null,
   "id": "4cf603a7",
   "metadata": {
    "scrolled": true
   },
   "outputs": [],
   "source": [
    "create_graph_images(\"data\", hours_of_data=24)"
   ]
  },
  {
   "cell_type": "code",
   "execution_count": null,
   "id": "4d6a75ce",
   "metadata": {},
   "outputs": [],
   "source": [
    "fig = generate_plot_ci_lines(\"data\", hours_of_data=12)"
   ]
  },
  {
   "cell_type": "code",
   "execution_count": null,
   "id": "4e5802d7",
   "metadata": {
    "scrolled": false
   },
   "outputs": [],
   "source": [
    "fig = generate_boxplot_ci(\"data\", 24)"
   ]
  },
  {
   "cell_type": "code",
   "execution_count": null,
   "id": "800529fb",
   "metadata": {},
   "outputs": [],
   "source": [
    "fig = generate_boxplot_ci_error(\"data\", 24)"
   ]
  },
  {
   "cell_type": "code",
   "execution_count": null,
   "id": "6ec00538",
   "metadata": {},
   "outputs": [],
   "source": [
    "fig = generate_boxplot_ci_error_for_days(\"data\", 7)"
   ]
  },
  {
   "cell_type": "code",
   "execution_count": null,
   "id": "12f32b4c",
   "metadata": {},
   "outputs": [],
   "source": [
    "fig = generate_boxplot_ci_error_per_hour(\"data\", days=7)"
   ]
  },
  {
   "cell_type": "code",
   "execution_count": null,
   "id": "69945326",
   "metadata": {},
   "outputs": [],
   "source": []
  }
 ],
 "metadata": {
  "kernelspec": {
   "display_name": "Python 3 (ipykernel)",
   "language": "python",
   "name": "python3"
  },
  "language_info": {
   "codemirror_mode": {
    "name": "ipython",
    "version": 3
   },
   "file_extension": ".py",
   "mimetype": "text/x-python",
   "name": "python",
   "nbconvert_exporter": "python",
   "pygments_lexer": "ipython3",
   "version": "3.10.6"
  },
  "vscode": {
   "interpreter": {
    "hash": "b276e1ce4c83f945225c40ea9f2ba08e5f011cb6d0fca0ac0dcd2a1d4b6b355c"
   }
  }
 },
 "nbformat": 4,
 "nbformat_minor": 5
}
