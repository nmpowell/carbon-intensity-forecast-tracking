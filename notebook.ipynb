{
 "cells": [
  {
   "cell_type": "code",
   "execution_count": null,
   "id": "d37bfedb",
   "metadata": {
    "scrolled": false
   },
   "outputs": [],
   "source": [
    "%matplotlib inline\n",
    "from scrape.graph import create_graph_images, generate_boxplot_ci, generate_boxplot_ci_error, generate_boxplot_ci_error_for_days, generate_plot_ci_lines"
   ]
  },
  {
   "cell_type": "code",
   "execution_count": null,
   "id": "4cf603a7",
   "metadata": {
    "scrolled": false
   },
   "outputs": [],
   "source": [
    "create_graph_images(\"data\")"
   ]
  },
  {
   "cell_type": "code",
   "execution_count": null,
   "id": "4d6a75ce",
   "metadata": {},
   "outputs": [],
   "source": [
    "fig = generate_plot_ci_lines(\"data\")"
   ]
  },
  {
   "cell_type": "code",
   "execution_count": null,
   "id": "4e5802d7",
   "metadata": {
    "scrolled": false
   },
   "outputs": [],
   "source": [
    "fig = generate_boxplot_ci(\"data\")"
   ]
  },
  {
   "cell_type": "code",
   "execution_count": null,
   "id": "800529fb",
   "metadata": {},
   "outputs": [],
   "source": [
    "fig = generate_boxplot_ci_error(\"data\")"
   ]
  },
  {
   "cell_type": "code",
   "execution_count": null,
   "id": "6ec00538",
   "metadata": {},
   "outputs": [],
   "source": [
    "fig = generate_boxplot_ci_error_for_days(\"data\")"
   ]
  },
  {
   "cell_type": "code",
   "execution_count": null,
   "id": "12f32b4c",
   "metadata": {},
   "outputs": [],
   "source": []
  }
 ],
 "metadata": {
  "kernelspec": {
   "display_name": "Python 3 (ipykernel)",
   "language": "python",
   "name": "python3"
  },
  "language_info": {
   "codemirror_mode": {
    "name": "ipython",
    "version": 3
   },
   "file_extension": ".py",
   "mimetype": "text/x-python",
   "name": "python",
   "nbconvert_exporter": "python",
   "pygments_lexer": "ipython3",
   "version": "3.10.6"
  },
  "vscode": {
   "interpreter": {
    "hash": "b276e1ce4c83f945225c40ea9f2ba08e5f011cb6d0fca0ac0dcd2a1d4b6b355c"
   }
  }
 },
 "nbformat": 4,
 "nbformat_minor": 5
}
