{
 "cells": [
  {
   "cell_type": "code",
   "execution_count": 1,
   "id": "d37bfedb",
   "metadata": {
    "scrolled": false
   },
   "outputs": [],
   "source": [
    "%matplotlib inline\n",
    "import pandas as pd\n",
    "from scrape.graph import get_merged_summaries_with_final_actual_intensities, create_graph_images, generate_boxplot_ci, generate_boxplot_ci_error, generate_boxplot_ci_error_for_days, generate_plot_ci_lines, generate_boxplot_ci_error_per_hour"
   ]
  },
  {
   "cell_type": "markdown",
   "id": "ab443df4",
   "metadata": {},
   "source": [
    "# Carbon intensity forecast tracking\n",
    "\n",
    "Here I'll show the basics of how this repo operates, for national data.\n",
    "\n",
    "1. Periodically scrape JSON data from the National Grid API\n",
    "2. Convert to CSV\n",
    "3. Summarise in a giant combined CSV\n",
    "4. Plot graphs and calculate statistics.\n",
    "\n",
    "Most operations are possible via the CLI: see the `python3 run.py ...` commands."
   ]
  },
  {
   "cell_type": "markdown",
   "id": "834138a0",
   "metadata": {},
   "source": [
    "## 1. Scrape JSON data from the National Grid API\n",
    "\n",
    "We'll use the existing repo folder `./data`. Subfolders will be created for each endpoint.\n",
    "\n",
    "The supported endpoints are defined in `api.py`. For national data, we'll use the two endpoints \n",
    "\n",
    "Run the following commands repeatedly every half-hour until you have gathered the data you want:\n",
    "```\n",
    "python run.py download --output_directory data --now --endpoint national_fw48h\n",
    "python run.py download --output_directory data --now --endpoint national_pt24h\n",
    "```\n",
    "\n",
    "Gathering data as it is published, every half hour, is important because historical forecasts are overwritten/unavailable (hence this project)."
   ]
  },
  {
   "cell_type": "markdown",
   "id": "804f1248",
   "metadata": {},
   "source": [
    "## 2. Convert to CSV\n",
    "\n",
    "```\n",
    "python3 run.py wrangle --input_directory \"data/national_fw48h\" --endpoint \"national_fw48h\"\n",
    "python3 run.py wrangle --input_directory \"data/national_pt24h\" --endpoint \"national_pt24h\"\n",
    "```\n",
    "\n",
    "This will create `.csv` files in the same directory with identical names as the `.json` files."
   ]
  },
  {
   "cell_type": "markdown",
   "id": "cfd6fc77",
   "metadata": {},
   "source": [
    "## 3. Summarise\n",
    "\n",
    "```\n",
    "python3 run.py summary --input_directory \"data/national_fw48h\" --output_directory \"data\" --endpoint \"national_fw48h\"\n",
    "python3 run.py summary --input_directory \"data/national_pt24h\" --output_directory \"data\" --endpoint \"national_pt24h\"\n",
    "```\n",
    "This will create `summary_national_fw48h.csv` and `summary_national_pt24h.csv` files in the `data` directory which combine all the available CSVs into one file."
   ]
  },
  {
   "cell_type": "code",
   "execution_count": null,
   "id": "ac144d80",
   "metadata": {},
   "outputs": [],
   "source": [
    "# Example\n",
    "df = pd.read_csv(\"./data/summary_national_fw48h.csv\").head()\n",
    "df"
   ]
  },
  {
   "cell_type": "markdown",
   "id": "011bd147",
   "metadata": {},
   "source": [
    "## 4. Plots and statistics"
   ]
  },
  {
   "cell_type": "code",
   "execution_count": 2,
   "id": "7fe59142",
   "metadata": {},
   "outputs": [],
   "source": [
    "summaries_merged_df = get_merged_summaries_with_final_actual_intensities(\"data\", filter=\"national\")"
   ]
  },
  {
   "cell_type": "code",
   "execution_count": null,
   "id": "14ecd1cd",
   "metadata": {
    "scrolled": false
   },
   "outputs": [],
   "source": [
    "fig = generate_plot_ci_lines(summaries_merged_df, hours_of_data=24)"
   ]
  },
  {
   "cell_type": "code",
   "execution_count": null,
   "id": "30f6c723",
   "metadata": {
    "scrolled": false
   },
   "outputs": [],
   "source": [
    "fig = generate_boxplot_ci(summaries_merged_df, hours_of_data=24)"
   ]
  },
  {
   "cell_type": "code",
   "execution_count": null,
   "id": "800529fb",
   "metadata": {},
   "outputs": [],
   "source": [
    "fig = generate_boxplot_ci_error(summaries_merged_df, hours_of_data=24)"
   ]
  },
  {
   "cell_type": "code",
   "execution_count": null,
   "id": "6ec00538",
   "metadata": {},
   "outputs": [],
   "source": [
    "fig = generate_boxplot_ci_error_for_days(summaries_merged_df, days=7)"
   ]
  },
  {
   "cell_type": "code",
   "execution_count": null,
   "id": "12f32b4c",
   "metadata": {},
   "outputs": [],
   "source": [
    "fig = generate_boxplot_ci_error_per_hour(summaries_merged_df, days=7)"
   ]
  },
  {
   "cell_type": "code",
   "execution_count": null,
   "id": "4cf603a7",
   "metadata": {
    "scrolled": false
   },
   "outputs": [],
   "source": [
    "create_graph_images(\"data\", hours_of_data=24, days=7)"
   ]
  },
  {
   "cell_type": "markdown",
   "id": "72fb35a7",
   "metadata": {},
   "source": [
    "Note these CIs assume an approximate Normal distribution, which we can see from the days' histograms is not true."
   ]
  },
  {
   "cell_type": "code",
   "execution_count": 3,
   "id": "b43a60ee",
   "metadata": {},
   "outputs": [
    {
     "name": "stdout",
     "output_type": "stream",
     "text": [
      "| error, gCO_2/kWh   |   mean |    std |    sem | confidence_95    |\n",
      "|:-------------------|-------:|-------:|-------:|:-----------------|\n",
      "| 2023-03-29         |  -5.85 |  16.48 |   0.26 | (-6.36, -5.33)   |\n",
      "| 2023-03-30         |  -4.89 |  22.01 |   0.43 | (-5.73, -4.04)   |\n",
      "| 2023-04-03         |  -1    | nan    | nan    | (nan, nan)       |\n",
      "| 2023-04-04         | -12.29 |  46.03 |   1.42 | (-15.09, -9.5)   |\n",
      "| 2023-04-05         | -24.73 |  34.76 |   0.82 | (-26.34, -23.12) |\n",
      "| error, %   |   mean |    std |    sem | confidence_95    |\n",
      "|:-----------|-------:|-------:|-------:|:-----------------|\n",
      "| 2023-03-29 |  -2.26 |  17.56 |   0.28 | (-2.81, -1.71)   |\n",
      "| 2023-03-30 |  -1.32 |  24.17 |   0.47 | (-2.25, -0.4)    |\n",
      "| 2023-04-03 |  -0.58 | nan    | nan    | (nan, nan)       |\n",
      "| 2023-04-04 |  -2.61 |  28.1  |   0.87 | (-4.31, -0.9)    |\n",
      "| 2023-04-05 | -11.5  |  16.86 |   0.4  | (-12.28, -10.72) |\n"
     ]
    },
    {
     "name": "stderr",
     "output_type": "stream",
     "text": [
      "/Users/nick.powell/.virtualenvs/carbon-intensity-forecast-tracking/lib/python3.10/site-packages/numpy/core/_methods.py:269: RuntimeWarning: Degrees of freedom <= 0 for slice\n",
      "  ret = _var(a, axis=axis, dtype=dtype, out=out, ddof=ddof,\n",
      "/Users/nick.powell/.virtualenvs/carbon-intensity-forecast-tracking/lib/python3.10/site-packages/numpy/core/_methods.py:261: RuntimeWarning: invalid value encountered in scalar divide\n",
      "  ret = ret.dtype.type(ret / rcount)\n",
      "/Users/nick.powell/.virtualenvs/carbon-intensity-forecast-tracking/lib/python3.10/site-packages/numpy/core/_methods.py:269: RuntimeWarning: Degrees of freedom <= 0 for slice\n",
      "  ret = _var(a, axis=axis, dtype=dtype, out=out, ddof=ddof,\n",
      "/Users/nick.powell/.virtualenvs/carbon-intensity-forecast-tracking/lib/python3.10/site-packages/numpy/core/_methods.py:261: RuntimeWarning: invalid value encountered in scalar divide\n",
      "  ret = ret.dtype.type(ret / rcount)\n"
     ]
    }
   ],
   "source": [
    "from scrape.graph import generate_markdown_table\n",
    "a, b = generate_markdown_table(summaries_merged_df, days=7)\n",
    "print(a)\n",
    "print(b)"
   ]
  },
  {
   "cell_type": "code",
   "execution_count": null,
   "id": "511b6325",
   "metadata": {},
   "outputs": [],
   "source": []
  }
 ],
 "metadata": {
  "kernelspec": {
   "display_name": "Python 3 (ipykernel)",
   "language": "python",
   "name": "python3"
  },
  "language_info": {
   "codemirror_mode": {
    "name": "ipython",
    "version": 3
   },
   "file_extension": ".py",
   "mimetype": "text/x-python",
   "name": "python",
   "nbconvert_exporter": "python",
   "pygments_lexer": "ipython3",
   "version": "3.10.6"
  },
  "vscode": {
   "interpreter": {
    "hash": "b276e1ce4c83f945225c40ea9f2ba08e5f011cb6d0fca0ac0dcd2a1d4b6b355c"
   }
  }
 },
 "nbformat": 4,
 "nbformat_minor": 5
}
